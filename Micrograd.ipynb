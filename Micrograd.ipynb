{
 "cells": [
  {
   "cell_type": "code",
   "execution_count": 3,
   "id": "06c442f5-716e-407e-86d3-4300af49a144",
   "metadata": {},
   "outputs": [],
   "source": [
    "import math\n",
    "import numpy as np\n",
    "import matplotlib.pyplot as plt\n",
    "%matplotlib inline"
   ]
  },
  {
   "cell_type": "code",
   "execution_count": 4,
   "id": "4f610780-e854-4907-9aa6-6eed33045a58",
   "metadata": {},
   "outputs": [],
   "source": [
    "def f(x):\n",
    "    return 3*x**2 - 4*x + 5"
   ]
  },
  {
   "cell_type": "code",
   "execution_count": 5,
   "id": "e99c4b44-2d9f-416f-ada8-a277c4ff88bf",
   "metadata": {},
   "outputs": [
    {
     "data": {
      "text/plain": [
       "20.0"
      ]
     },
     "execution_count": 5,
     "metadata": {},
     "output_type": "execute_result"
    }
   ],
   "source": [
    "f(3.0)"
   ]
  },
  {
   "cell_type": "code",
   "execution_count": 7,
   "id": "bf9a7563-ba67-4302-8361-3765e094f990",
   "metadata": {},
   "outputs": [
    {
     "data": {
      "text/plain": [
       "[<matplotlib.lines.Line2D at 0x767ae416d810>]"
      ]
     },
     "execution_count": 7,
     "metadata": {},
     "output_type": "execute_result"
    },
    {
     "data": {
      "image/png": "[encoded data removed]",
      "text/plain": [
       "<Figure size 640x480 with 1 Axes>"
      ]
     },
     "metadata": {},
     "output_type": "display_data"
    }
   ],
   "source": [
    "xs = np.arange(-5, 5, 0.25)\n",
    "ys = f(xs)\n",
    "plt.plot(xs,ys)"
   ]
  },
  {
   "cell_type": "code",
   "execution_count": 15,
   "id": "1132ad5e-8b42-48ce-a2d3-93d4ffa7382c",
   "metadata": {},
   "outputs": [
    {
     "data": {
      "text/plain": [
       "-21.999700000066014"
      ]
     },
     "execution_count": 15,
     "metadata": {},
     "output_type": "execute_result"
    }
   ],
   "source": [
    "h = 0.0001 \n",
    "x = -3.0\n",
    "(f(x+h) -f(x))/h"
   ]
  },
  {
   "cell_type": "code",
   "execution_count": 17,
   "id": "6ca015e1-5f0e-45e9-96af-8ac74f1de4c1",
   "metadata": {},
   "outputs": [
    {
     "data": {
      "text/plain": [
       "0.0"
      ]
     },
     "execution_count": 17,
     "metadata": {},
     "output_type": "execute_result"
    }
   ],
   "source": [
    "h = 0.00000001 \n",
    "x = 2/3\n",
    "(f(x+h) -f(x))/h"
   ]
  },
  {
   "cell_type": "code",
   "execution_count": 18,
   "id": "2c14f587-98ab-4866-b35a-7015bbdb03df",
   "metadata": {},
   "outputs": [
    {
     "name": "stdout",
     "output_type": "stream",
     "text": [
      "4.0\n"
     ]
    }
   ],
   "source": [
    "a = 2.0\n",
    "b = -3.0\n",
    "c = 10.0\n",
    "d = a*b + c\n",
    "print(d)"
   ]
  },
  {
   "cell_type": "code",
   "execution_count": 24,
   "id": "81f5bc61-6a94-4c05-9047-7ce4c8f2c2b6",
   "metadata": {},
   "outputs": [
    {
     "name": "stdout",
     "output_type": "stream",
     "text": [
      "d1 4.0\n",
      "d2 3.999699999999999\n",
      "slope -3.000000000010772\n"
     ]
    }
   ],
   "source": [
    "h = 0.0001\n",
    "a = 2.0\n",
    "b = -3.0\n",
    "c = 10.0\n",
    "\n",
    "d1 = a*b + c\n",
    "a += h\n",
    "d2 = a*b + c\n",
    "print('d1',d1)\n",
    "print('d2',d2)\n",
    "print('slope', (d2-d1)/h)"
   ]
  },
  {
   "cell_type": "code",
   "execution_count": 23,
   "id": "b714d23a-50d6-4db9-8f78-93743dc4ec16",
   "metadata": {},
   "outputs": [
    {
     "name": "stdout",
     "output_type": "stream",
     "text": [
      "d1 4.0\n",
      "d2 4.0002\n",
      "slope 2.0000000000042206\n"
     ]
    }
   ],
   "source": [
    "h = 0.0001\n",
    "a = 2.0\n",
    "b = -3.0\n",
    "c = 10.0\n",
    "\n",
    "d1 = a*b + c\n",
    "b += h\n",
    "d2 = a*b + c\n",
    "print('d1',d1)\n",
    "print('d2',d2)\n",
    "print('slope', (d2-d1)/h)"
   ]
  },
  {
   "cell_type": "code",
   "execution_count": null,
   "id": "1916feb6-2b34-4fe0-84c8-f088b73981be",
   "metadata": {},
   "outputs": [],
   "source": [
    "#Forward Pass"
   ]
  },
  {
   "cell_type": "code",
   "execution_count": 35,
   "id": "8ef224fb-785f-4cb1-a99c-1bba9f018403",
   "metadata": {},
   "outputs": [
    {
     "data": {
      "text/plain": [
       "Value(data = -1.0"
      ]
     },
     "execution_count": 35,
     "metadata": {},
     "output_type": "execute_result"
    }
   ],
   "source": [
    "class Value:\n",
    "    def __init__(self, data):\n",
    "        self.data = data \n",
    "    def __repr__(self):\n",
    "     return f\"Value(data = {self.data}\"\n",
    "    def __add__(self, other):\n",
    "        out = Value(self.data + other.data)\n",
    "        return out\n",
    "        \n",
    "a = Value(2.0)\n",
    "b = Value(-3.0)\n",
    "a + b\n",
    "a.__add__(b)"
   ]
  },
  {
   "cell_type": "code",
   "execution_count": 40,
   "id": "41925d63-62f8-4b60-965d-3290bc1a6add",
   "metadata": {},
   "outputs": [
    {
     "data": {
      "text/plain": [
       "Value(data = 4.0"
      ]
     },
     "execution_count": 40,
     "metadata": {},
     "output_type": "execute_result"
    }
   ],
   "source": [
    "class Value:\n",
    "    def __init__(self, data):\n",
    "        self.data = data \n",
    "    def __repr__(self):\n",
    "     return f\"Value(data = {self.data}\"\n",
    "    def __add__(self, other):\n",
    "        out = Value(self.data + other.data)\n",
    "        return out\n",
    "    def __mul__(self, other):\n",
    "        out = Value(self.data * other.data)\n",
    "        return out\n",
    "a = Value(2.0)\n",
    "b = Value(-3.0)\n",
    "c = Value(10.0)\n",
    "a * b + c\n",
    "(a.__mul__(b)).__add__(c)"
   ]
  },
  {
   "cell_type": "code",
   "execution_count": 48,
   "id": "73c9914c-86c3-412f-ba44-0d5eff4bb70d",
   "metadata": {},
   "outputs": [
    {
     "data": {
      "text/plain": [
       "Value(data = 4.0"
      ]
     },
     "execution_count": 48,
     "metadata": {},
     "output_type": "execute_result"
    }
   ],
   "source": [
    "class Value:\n",
    "    def __init__(self, data, _children=()):\n",
    "        self.data = data \n",
    "        self._prev = set(_children)\n",
    "        \n",
    "    def __repr__(self):\n",
    "     return f\"Value(data = {self.data}\"\n",
    "        \n",
    "    def __add__(self, other):\n",
    "        out = Value(self.data + other.data,(self, other))\n",
    "        return out\n",
    "        \n",
    "    def __mul__(self, other):\n",
    "        out = Value(self.data * other.data)\n",
    "        return out\n",
    "a = Value(2.0)\n",
    "b = Value(-3.0)\n",
    "c = Value(10.0)\n",
    "d = a * b + c\n",
    "d"
   ]
  },
  {
   "cell_type": "code",
   "execution_count": 49,
   "id": "1fecbaa8-1b5e-4ef9-b748-853af2a70de3",
   "metadata": {},
   "outputs": [
    {
     "data": {
      "text/plain": [
       "{Value(data = -6.0, Value(data = 10.0}"
      ]
     },
     "execution_count": 49,
     "metadata": {},
     "output_type": "execute_result"
    }
   ],
   "source": [
    "d._prev"
   ]
  },
  {
   "cell_type": "code",
   "execution_count": 63,
   "id": "c4f29187-d5a5-44a9-a407-fbcc7618e5c2",
   "metadata": {},
   "outputs": [
    {
     "data": {
      "text/plain": [
       "Value(data = 4.0"
      ]
     },
     "execution_count": 63,
     "metadata": {},
     "output_type": "execute_result"
    }
   ],
   "source": [
    "class Value:\n",
    "    def __init__(self, data, _children=(), _op=''):\n",
    "        self.data = data \n",
    "        self._prev = set(_children)\n",
    "        self._op = _op\n",
    "        \n",
    "    def __repr__(self):\n",
    "     return f\"Value(data = {self.data}\"\n",
    "        \n",
    "    def __add__(self, other):\n",
    "        out = Value(self.data + other.data,(self, other),'+')\n",
    "        return out\n",
    "        \n",
    "    def __mul__(self, other):\n",
    "        out = Value(self.data * other.data,(self, other),'*')\n",
    "        return out\n",
    "a = Value(2.0)\n",
    "b = Value(-3.0)\n",
    "c = Value(10.0)\n",
    "d = a * b + c\n",
    "d"
   ]
  },
  {
   "cell_type": "code",
   "execution_count": 64,
   "id": "eecdc035-0b35-426d-9942-46ac0f1e4c40",
   "metadata": {},
   "outputs": [
    {
     "data": {
      "text/plain": [
       "'+'"
      ]
     },
     "execution_count": 64,
     "metadata": {},
     "output_type": "execute_result"
    }
   ],
   "source": [
    "d._op"
   ]
  },
  {
   "cell_type": "code",
   "execution_count": 76,
   "id": "34729cf0-41ef-46f3-b7c0-908149b80130",
   "metadata": {},
   "outputs": [],
   "source": [
    "from graphviz import Digraph \n",
    "\n",
    "def trace(root): \n",
    "    #builds a set of all nodes and edges in a graph \n",
    "    nodes, edges = set(), set() \n",
    "    \n",
    "    def build(v): \n",
    "        if v not in nodes: \n",
    "            nodes.add(v) \n",
    "            for child in v._prev: \n",
    "                edges.add((child, v)) \n",
    "                build(child) \n",
    "    \n",
    "    build(root) \n",
    "    return nodes, edges \n",
    "\n",
    "def draw_dot(root): \n",
    "    dot = Digraph(format='svg', graph_attr={'rankdir': 'LR'}) # LR left to right \n",
    "    nodes, edges = trace(root) \n",
    "    for n in nodes: \n",
    "        uid = str(id(n)) \n",
    "        # for any value in the graph, create a rectangular (record) node for it \n",
    "        dot.node(name=uid, label=\"| data %.4f\" % (n.data), shape=\"record\") \n",
    "        if n._op: \n",
    "            # if this value is a result of some operation, create an op node for it \n",
    "            dot.node(name=uid + n._op, label=n._op) \n",
    "            # and connect this node to it \n",
    "            dot.edge(uid + n._op, uid) \n",
    "    \n",
    "    for n1, n2 in edges: \n",
    "        # connect n1 to the op node of n2 \n",
    "        dot.edge(str(id(n1)), str(id(n2)) + n2._op) \n",
    "    \n",
    "    return dot\n"
   ]
  },
  {
   "cell_type": "code",
   "execution_count": 77,
   "id": "5adff8a4-e513-467c-9308-c04ed641854b",
   "metadata": {},
   "outputs": [
    {
     "data": {
      "image/svg+xml": [
       "<?xml version=\"1.0\" encoding=\"UTF-8\" standalone=\"no\"?>\n",
       "<!DOCTYPE svg PUBLIC \"-//W3C//DTD SVG 1.1//EN\"\n",
       " \"http://www.w3.org/Graphics/SVG/1.1/DTD/svg11.dtd\">\n",
       "<!-- Generated by graphviz version 2.43.0 (0)\n",
       " -->\n",
       "<!-- Title: %3 Pages: 1 -->\n",
       "<svg width=\"580pt\" height=\"153pt\"\n",
       " viewBox=\"0.00 0.00 580.00 153.00\" xmlns=\"http://www.w3.org/2000/svg\" xmlns:xlink=\"http://www.w3.org/1999/xlink\">\n",
       "<g id=\"graph0\" class=\"graph\" transform=\"scale(1 1) rotate(0) translate(4 149)\">\n",
       "<title>%3</title>\n",
       "<polygon fill=\"white\" stroke=\"transparent\" points=\"-4,4 -4,-149 576,-149 576,4 -4,4\"/>\n",
       "<!-- 130268964080848 -->\n",
       "<g id=\"node1\" class=\"node\">\n",
       "<title>130268964080848</title>\n",
       "<polygon fill=\"none\" stroke=\"black\" points=\"470,-32.5 470,-78.5 572,-78.5 572,-32.5 470,-32.5\"/>\n",
       "<text text-anchor=\"middle\" x=\"521\" y=\"-63.3\" font-family=\"Times,serif\" font-size=\"14.00\"> </text>\n",
       "<polyline fill=\"none\" stroke=\"black\" points=\"470,-55.5 572,-55.5 \"/>\n",
       "<text text-anchor=\"middle\" x=\"521\" y=\"-40.3\" font-family=\"Times,serif\" font-size=\"14.00\">data 4.0000</text>\n",
       "</g>\n",
       "<!-- 130268964080848+ -->\n",
       "<g id=\"node2\" class=\"node\">\n",
       "<title>130268964080848+</title>\n",
       "<ellipse fill=\"none\" stroke=\"black\" cx=\"407\" cy=\"-55.5\" rx=\"27\" ry=\"18\"/>\n",
       "<text text-anchor=\"middle\" x=\"407\" y=\"-51.8\" font-family=\"Times,serif\" font-size=\"14.00\">+</text>\n",
       "</g>\n",
       "<!-- 130268964080848+&#45;&gt;130268964080848 -->\n",
       "<g id=\"edge1\" class=\"edge\">\n",
       "<title>130268964080848+&#45;&gt;130268964080848</title>\n",
       "<path fill=\"none\" stroke=\"black\" d=\"M434.26,-55.5C441.96,-55.5 450.73,-55.5 459.64,-55.5\"/>\n",
       "<polygon fill=\"black\" stroke=\"black\" points=\"459.71,-59 469.71,-55.5 459.71,-52 459.71,-59\"/>\n",
       "</g>\n",
       "<!-- 130268964080368 -->\n",
       "<g id=\"node3\" class=\"node\">\n",
       "<title>130268964080368</title>\n",
       "<polygon fill=\"none\" stroke=\"black\" points=\"0,-98.5 0,-144.5 107,-144.5 107,-98.5 0,-98.5\"/>\n",
       "<text text-anchor=\"middle\" x=\"53.5\" y=\"-129.3\" font-family=\"Times,serif\" font-size=\"14.00\"> </text>\n",
       "<polyline fill=\"none\" stroke=\"black\" points=\"0,-121.5 107,-121.5 \"/>\n",
       "<text text-anchor=\"middle\" x=\"53.5\" y=\"-106.3\" font-family=\"Times,serif\" font-size=\"14.00\">data &#45;3.0000</text>\n",
       "</g>\n",
       "<!-- 130268964080896* -->\n",
       "<g id=\"node5\" class=\"node\">\n",
       "<title>130268964080896*</title>\n",
       "<ellipse fill=\"none\" stroke=\"black\" cx=\"170\" cy=\"-88.5\" rx=\"27\" ry=\"18\"/>\n",
       "<text text-anchor=\"middle\" x=\"170\" y=\"-84.8\" font-family=\"Times,serif\" font-size=\"14.00\">*</text>\n",
       "</g>\n",
       "<!-- 130268964080368&#45;&gt;130268964080896* -->\n",
       "<g id=\"edge3\" class=\"edge\">\n",
       "<title>130268964080368&#45;&gt;130268964080896*</title>\n",
       "<path fill=\"none\" stroke=\"black\" d=\"M107.06,-106.35C116.61,-103.6 126.33,-100.8 135.16,-98.25\"/>\n",
       "<polygon fill=\"black\" stroke=\"black\" points=\"136.41,-101.54 145.05,-95.4 134.47,-94.81 136.41,-101.54\"/>\n",
       "</g>\n",
       "<!-- 130268964080896 -->\n",
       "<g id=\"node4\" class=\"node\">\n",
       "<title>130268964080896</title>\n",
       "<polygon fill=\"none\" stroke=\"black\" points=\"235,-65.5 235,-111.5 342,-111.5 342,-65.5 235,-65.5\"/>\n",
       "<text text-anchor=\"middle\" x=\"288.5\" y=\"-96.3\" font-family=\"Times,serif\" font-size=\"14.00\"> </text>\n",
       "<polyline fill=\"none\" stroke=\"black\" points=\"235,-88.5 342,-88.5 \"/>\n",
       "<text text-anchor=\"middle\" x=\"288.5\" y=\"-73.3\" font-family=\"Times,serif\" font-size=\"14.00\">data &#45;6.0000</text>\n",
       "</g>\n",
       "<!-- 130268964080896&#45;&gt;130268964080848+ -->\n",
       "<g id=\"edge6\" class=\"edge\">\n",
       "<title>130268964080896&#45;&gt;130268964080848+</title>\n",
       "<path fill=\"none\" stroke=\"black\" d=\"M342.3,-73.54C352.46,-70.66 362.86,-67.72 372.22,-65.07\"/>\n",
       "<polygon fill=\"black\" stroke=\"black\" points=\"373.25,-68.42 381.91,-62.32 371.34,-61.68 373.25,-68.42\"/>\n",
       "</g>\n",
       "<!-- 130268964080896*&#45;&gt;130268964080896 -->\n",
       "<g id=\"edge2\" class=\"edge\">\n",
       "<title>130268964080896*&#45;&gt;130268964080896</title>\n",
       "<path fill=\"none\" stroke=\"black\" d=\"M197.14,-88.5C205.41,-88.5 214.93,-88.5 224.62,-88.5\"/>\n",
       "<polygon fill=\"black\" stroke=\"black\" points=\"224.74,-92 234.74,-88.5 224.74,-85 224.74,-92\"/>\n",
       "</g>\n",
       "<!-- 130268964080416 -->\n",
       "<g id=\"node6\" class=\"node\">\n",
       "<title>130268964080416</title>\n",
       "<polygon fill=\"none\" stroke=\"black\" points=\"2.5,-33.5 2.5,-79.5 104.5,-79.5 104.5,-33.5 2.5,-33.5\"/>\n",
       "<text text-anchor=\"middle\" x=\"53.5\" y=\"-64.3\" font-family=\"Times,serif\" font-size=\"14.00\"> </text>\n",
       "<polyline fill=\"none\" stroke=\"black\" points=\"2.5,-56.5 104.5,-56.5 \"/>\n",
       "<text text-anchor=\"middle\" x=\"53.5\" y=\"-41.3\" font-family=\"Times,serif\" font-size=\"14.00\">data 2.0000</text>\n",
       "</g>\n",
       "<!-- 130268964080416&#45;&gt;130268964080896* -->\n",
       "<g id=\"edge4\" class=\"edge\">\n",
       "<title>130268964080416&#45;&gt;130268964080896*</title>\n",
       "<path fill=\"none\" stroke=\"black\" d=\"M104.72,-70.54C114.96,-73.4 125.5,-76.34 135.01,-79\"/>\n",
       "<polygon fill=\"black\" stroke=\"black\" points=\"134.29,-82.43 144.86,-81.75 136.17,-75.69 134.29,-82.43\"/>\n",
       "</g>\n",
       "<!-- 130268964080464 -->\n",
       "<g id=\"node7\" class=\"node\">\n",
       "<title>130268964080464</title>\n",
       "<polygon fill=\"none\" stroke=\"black\" points=\"233,-0.5 233,-46.5 344,-46.5 344,-0.5 233,-0.5\"/>\n",
       "<text text-anchor=\"middle\" x=\"288.5\" y=\"-31.3\" font-family=\"Times,serif\" font-size=\"14.00\"> </text>\n",
       "<polyline fill=\"none\" stroke=\"black\" points=\"233,-23.5 344,-23.5 \"/>\n",
       "<text text-anchor=\"middle\" x=\"288.5\" y=\"-8.3\" font-family=\"Times,serif\" font-size=\"14.00\">data 10.0000</text>\n",
       "</g>\n",
       "<!-- 130268964080464&#45;&gt;130268964080848+ -->\n",
       "<g id=\"edge5\" class=\"edge\">\n",
       "<title>130268964080464&#45;&gt;130268964080848+</title>\n",
       "<path fill=\"none\" stroke=\"black\" d=\"M344.34,-38.56C353.76,-41.15 363.29,-43.77 371.96,-46.15\"/>\n",
       "<polygon fill=\"black\" stroke=\"black\" points=\"371.1,-49.54 381.67,-48.82 372.96,-42.79 371.1,-49.54\"/>\n",
       "</g>\n",
       "</g>\n",
       "</svg>\n"
      ],
      "text/plain": [
       "<graphviz.graphs.Digraph at 0x767ae55b87f0>"
      ]
     },
     "execution_count": 77,
     "metadata": {},
     "output_type": "execute_result"
    }
   ],
   "source": [
    "draw_dot(d)"
   ]
  },
  {
   "cell_type": "code",
   "execution_count": 58,
   "id": "be87ab76-8eaf-4627-b634-1dda2aa90a68",
   "metadata": {},
   "outputs": [
    {
     "name": "stdout",
     "output_type": "stream",
     "text": [
      "Defaulting to user installation because normal site-packages is not writeable\n",
      "Collecting graphviz\n",
      "  Downloading graphviz-0.20.3-py3-none-any.whl (47 kB)\n",
      "\u001b[2K     \u001b[38;2;114;156;31m━━━━━━━━━━━━━━━━━━━━━━━━━━━━━━━━━━━━━━━━\u001b[0m \u001b[32m47.1/47.1 KB\u001b[0m \u001b[31m1.0 MB/s\u001b[0m eta \u001b[36m0:00:00\u001b[0m31m983.7 kB/s\u001b[0m eta \u001b[36m0:00:01\u001b[0m\n",
      "\u001b[?25hInstalling collected packages: graphviz\n",
      "Successfully installed graphviz-0.20.3\n",
      "Note: you may need to restart the kernel to use updated packages.\n"
     ]
    }
   ],
   "source": [
    "pip install graphviz"
   ]
  },
  {
   "cell_type": "code",
   "execution_count": 79,
   "id": "7397fda6-f162-4af0-877d-d7f59e72ef60",
   "metadata": {},
   "outputs": [
    {
     "data": {
      "text/plain": [
       "Value(data = 4.0"
      ]
     },
     "execution_count": 79,
     "metadata": {},
     "output_type": "execute_result"
    }
   ],
   "source": [
    "class Value:\n",
    "    def __init__(self, data, _children=(), _op='', label =''):\n",
    "        self.data = data \n",
    "        self._prev = set(_children)\n",
    "        self._op = _op\n",
    "        self.label = label\n",
    "        \n",
    "    def __repr__(self):\n",
    "     return f\"Value(data = {self.data}\"\n",
    "        \n",
    "    def __add__(self, other):\n",
    "        out = Value(self.data + other.data,(self, other),'+')\n",
    "        return out\n",
    "        \n",
    "    def __mul__(self, other):\n",
    "        out = Value(self.data * other.data,(self, other),'*')\n",
    "        return out\n",
    "        \n",
    "a = Value(2.0, label ='a')\n",
    "b = Value(-3.0, label ='b')\n",
    "c = Value(10.0,label ='c')\n",
    "e = a * b; e.label = 'e'\n",
    "d = e + c; d.label = 'd'\n",
    "d"
   ]
  },
  {
   "cell_type": "code",
   "execution_count": 82,
   "id": "3dafbe7a-e73d-4d1c-a5ab-b2469b863311",
   "metadata": {},
   "outputs": [],
   "source": [
    "from graphviz import Digraph \n",
    "\n",
    "def trace(root): \n",
    "    #builds a set of all nodes and edges in a graph \n",
    "    nodes, edges = set(), set() \n",
    "    \n",
    "    def build(v): \n",
    "        if v not in nodes: \n",
    "            nodes.add(v) \n",
    "            for child in v._prev: \n",
    "                edges.add((child, v)) \n",
    "                build(child) \n",
    "    \n",
    "    build(root) \n",
    "    return nodes, edges \n",
    "\n",
    "def draw_dot(root): \n",
    "    dot = Digraph(format='svg', graph_attr={'rankdir': 'LR'}) # LR left to right \n",
    "    \n",
    "    nodes, edges = trace(root) \n",
    "    for n in nodes: \n",
    "        uid = str(id(n)) \n",
    "        # for any value in the graph, create a rectangular (record) node for it \n",
    "        dot.node(name=uid, label=\"{%s | data %.4f}\" % (n.label, n.data), shape=\"record\") \n",
    "        if n._op: \n",
    "            # if this value is a result of some operation, create an op node for it \n",
    "            dot.node(name=uid + n._op, label=n._op) \n",
    "            # and connect this node to it \n",
    "            dot.edge(uid + n._op, uid) \n",
    "    \n",
    "    for n1, n2 in edges: \n",
    "        # connect n1 to the op node of n2 \n",
    "        dot.edge(str(id(n1)), str(id(n2)) + n2._op) \n",
    "    \n",
    "    return dot\n"
   ]
  },
  {
   "cell_type": "code",
   "execution_count": 83,
   "id": "29391d8a-d6bd-4f3a-ba38-cde3593dbb7c",
   "metadata": {},
   "outputs": [
    {
     "data": {
      "image/svg+xml": [
       "<?xml version=\"1.0\" encoding=\"UTF-8\" standalone=\"no\"?>\n",
       "<!DOCTYPE svg PUBLIC \"-//W3C//DTD SVG 1.1//EN\"\n",
       " \"http://www.w3.org/Graphics/SVG/1.1/DTD/svg11.dtd\">\n",
       "<!-- Generated by graphviz version 2.43.0 (0)\n",
       " -->\n",
       "<!-- Title: %3 Pages: 1 -->\n",
       "<svg width=\"656pt\" height=\"128pt\"\n",
       " viewBox=\"0.00 0.00 656.00 128.00\" xmlns=\"http://www.w3.org/2000/svg\" xmlns:xlink=\"http://www.w3.org/1999/xlink\">\n",
       "<g id=\"graph0\" class=\"graph\" transform=\"scale(1 1) rotate(0) translate(4 124)\">\n",
       "<title>%3</title>\n",
       "<polygon fill=\"white\" stroke=\"transparent\" points=\"-4,4 -4,-124 652,-124 652,4 -4,4\"/>\n",
       "<!-- 130270206077984 -->\n",
       "<g id=\"node1\" class=\"node\">\n",
       "<title>130270206077984</title>\n",
       "<polygon fill=\"none\" stroke=\"black\" points=\"0,-83.5 0,-119.5 133,-119.5 133,-83.5 0,-83.5\"/>\n",
       "<text text-anchor=\"middle\" x=\"13\" y=\"-97.8\" font-family=\"Times,serif\" font-size=\"14.00\">b</text>\n",
       "<polyline fill=\"none\" stroke=\"black\" points=\"26,-83.5 26,-119.5 \"/>\n",
       "<text text-anchor=\"middle\" x=\"79.5\" y=\"-97.8\" font-family=\"Times,serif\" font-size=\"14.00\">data &#45;3.0000</text>\n",
       "</g>\n",
       "<!-- 130270206069536* -->\n",
       "<g id=\"node7\" class=\"node\">\n",
       "<title>130270206069536*</title>\n",
       "<ellipse fill=\"none\" stroke=\"black\" cx=\"196\" cy=\"-73.5\" rx=\"27\" ry=\"18\"/>\n",
       "<text text-anchor=\"middle\" x=\"196\" y=\"-69.8\" font-family=\"Times,serif\" font-size=\"14.00\">*</text>\n",
       "</g>\n",
       "<!-- 130270206077984&#45;&gt;130270206069536* -->\n",
       "<g id=\"edge3\" class=\"edge\">\n",
       "<title>130270206077984&#45;&gt;130270206069536*</title>\n",
       "<path fill=\"none\" stroke=\"black\" d=\"M133.12,-87.09C142.49,-85.03 151.8,-82.99 160.25,-81.13\"/>\n",
       "<polygon fill=\"black\" stroke=\"black\" points=\"161.06,-84.54 170.08,-78.97 159.56,-77.7 161.06,-84.54\"/>\n",
       "</g>\n",
       "<!-- 130270206082112 -->\n",
       "<g id=\"node2\" class=\"node\">\n",
       "<title>130270206082112</title>\n",
       "<polygon fill=\"none\" stroke=\"black\" points=\"259,-0.5 259,-36.5 394,-36.5 394,-0.5 259,-0.5\"/>\n",
       "<text text-anchor=\"middle\" x=\"271\" y=\"-14.8\" font-family=\"Times,serif\" font-size=\"14.00\">c</text>\n",
       "<polyline fill=\"none\" stroke=\"black\" points=\"283,-0.5 283,-36.5 \"/>\n",
       "<text text-anchor=\"middle\" x=\"338.5\" y=\"-14.8\" font-family=\"Times,serif\" font-size=\"14.00\">data 10.0000</text>\n",
       "</g>\n",
       "<!-- 130270206080096+ -->\n",
       "<g id=\"node4\" class=\"node\">\n",
       "<title>130270206080096+</title>\n",
       "<ellipse fill=\"none\" stroke=\"black\" cx=\"457\" cy=\"-45.5\" rx=\"27\" ry=\"18\"/>\n",
       "<text text-anchor=\"middle\" x=\"457\" y=\"-41.8\" font-family=\"Times,serif\" font-size=\"14.00\">+</text>\n",
       "</g>\n",
       "<!-- 130270206082112&#45;&gt;130270206080096+ -->\n",
       "<g id=\"edge6\" class=\"edge\">\n",
       "<title>130270206082112&#45;&gt;130270206080096+</title>\n",
       "<path fill=\"none\" stroke=\"black\" d=\"M394.01,-32.47C403.41,-34.45 412.75,-36.41 421.22,-38.19\"/>\n",
       "<polygon fill=\"black\" stroke=\"black\" points=\"420.56,-41.63 431.06,-40.26 422,-34.78 420.56,-41.63\"/>\n",
       "</g>\n",
       "<!-- 130270206080096 -->\n",
       "<g id=\"node3\" class=\"node\">\n",
       "<title>130270206080096</title>\n",
       "<polygon fill=\"none\" stroke=\"black\" points=\"520,-27.5 520,-63.5 648,-63.5 648,-27.5 520,-27.5\"/>\n",
       "<text text-anchor=\"middle\" x=\"533\" y=\"-41.8\" font-family=\"Times,serif\" font-size=\"14.00\">d</text>\n",
       "<polyline fill=\"none\" stroke=\"black\" points=\"546,-27.5 546,-63.5 \"/>\n",
       "<text text-anchor=\"middle\" x=\"597\" y=\"-41.8\" font-family=\"Times,serif\" font-size=\"14.00\">data 4.0000</text>\n",
       "</g>\n",
       "<!-- 130270206080096+&#45;&gt;130270206080096 -->\n",
       "<g id=\"edge1\" class=\"edge\">\n",
       "<title>130270206080096+&#45;&gt;130270206080096</title>\n",
       "<path fill=\"none\" stroke=\"black\" d=\"M484.2,-45.5C491.8,-45.5 500.49,-45.5 509.49,-45.5\"/>\n",
       "<polygon fill=\"black\" stroke=\"black\" points=\"509.75,-49 519.75,-45.5 509.75,-42 509.75,-49\"/>\n",
       "</g>\n",
       "<!-- 130270206078608 -->\n",
       "<g id=\"node5\" class=\"node\">\n",
       "<title>130270206078608</title>\n",
       "<polygon fill=\"none\" stroke=\"black\" points=\"3,-28.5 3,-64.5 130,-64.5 130,-28.5 3,-28.5\"/>\n",
       "<text text-anchor=\"middle\" x=\"15.5\" y=\"-42.8\" font-family=\"Times,serif\" font-size=\"14.00\">a</text>\n",
       "<polyline fill=\"none\" stroke=\"black\" points=\"28,-28.5 28,-64.5 \"/>\n",
       "<text text-anchor=\"middle\" x=\"79\" y=\"-42.8\" font-family=\"Times,serif\" font-size=\"14.00\">data 2.0000</text>\n",
       "</g>\n",
       "<!-- 130270206078608&#45;&gt;130270206069536* -->\n",
       "<g id=\"edge5\" class=\"edge\">\n",
       "<title>130270206078608&#45;&gt;130270206069536*</title>\n",
       "<path fill=\"none\" stroke=\"black\" d=\"M130.13,-59.76C140.38,-61.93 150.67,-64.11 159.93,-66.07\"/>\n",
       "<polygon fill=\"black\" stroke=\"black\" points=\"159.4,-69.54 169.91,-68.19 160.85,-62.69 159.4,-69.54\"/>\n",
       "</g>\n",
       "<!-- 130270206069536 -->\n",
       "<g id=\"node6\" class=\"node\">\n",
       "<title>130270206069536</title>\n",
       "<polygon fill=\"none\" stroke=\"black\" points=\"260.5,-55.5 260.5,-91.5 392.5,-91.5 392.5,-55.5 260.5,-55.5\"/>\n",
       "<text text-anchor=\"middle\" x=\"273\" y=\"-69.8\" font-family=\"Times,serif\" font-size=\"14.00\">e</text>\n",
       "<polyline fill=\"none\" stroke=\"black\" points=\"285.5,-55.5 285.5,-91.5 \"/>\n",
       "<text text-anchor=\"middle\" x=\"339\" y=\"-69.8\" font-family=\"Times,serif\" font-size=\"14.00\">data &#45;6.0000</text>\n",
       "</g>\n",
       "<!-- 130270206069536&#45;&gt;130270206080096+ -->\n",
       "<g id=\"edge4\" class=\"edge\">\n",
       "<title>130270206069536&#45;&gt;130270206080096+</title>\n",
       "<path fill=\"none\" stroke=\"black\" d=\"M392.5,-59.34C402.35,-57.19 412.17,-55.05 421.04,-53.12\"/>\n",
       "<polygon fill=\"black\" stroke=\"black\" points=\"421.94,-56.5 430.96,-50.96 420.45,-49.67 421.94,-56.5\"/>\n",
       "</g>\n",
       "<!-- 130270206069536*&#45;&gt;130270206069536 -->\n",
       "<g id=\"edge2\" class=\"edge\">\n",
       "<title>130270206069536*&#45;&gt;130270206069536</title>\n",
       "<path fill=\"none\" stroke=\"black\" d=\"M223,-73.5C231.11,-73.5 240.5,-73.5 250.24,-73.5\"/>\n",
       "<polygon fill=\"black\" stroke=\"black\" points=\"250.47,-77 260.47,-73.5 250.47,-70 250.47,-77\"/>\n",
       "</g>\n",
       "</g>\n",
       "</svg>\n"
      ],
      "text/plain": [
       "<graphviz.graphs.Digraph at 0x767ae5483fd0>"
      ]
     },
     "execution_count": 83,
     "metadata": {},
     "output_type": "execute_result"
    }
   ],
   "source": [
    "draw_dot(d)"
   ]
  },
  {
   "cell_type": "code",
   "execution_count": 86,
   "id": "310f3781-f08e-4e32-af91-04d1a1756e8e",
   "metadata": {},
   "outputs": [
    {
     "data": {
      "text/plain": [
       "Value(data = -8.0"
      ]
     },
     "execution_count": 86,
     "metadata": {},
     "output_type": "execute_result"
    }
   ],
   "source": [
    "class Value:\n",
    "    def __init__(self, data, _children=(), _op='', label =''):\n",
    "        self.data = data \n",
    "        self._prev = set(_children)\n",
    "        self._op = _op\n",
    "        self.label = label\n",
    "        \n",
    "    def __repr__(self):\n",
    "     return f\"Value(data = {self.data}\"\n",
    "        \n",
    "    def __add__(self, other):\n",
    "        out = Value(self.data + other.data,(self, other),'+')\n",
    "        return out\n",
    "        \n",
    "    def __mul__(self, other):\n",
    "        out = Value(self.data * other.data,(self, other),'*')\n",
    "        return out\n",
    "        \n",
    "a = Value(2.0, label ='a')\n",
    "b = Value(-3.0, label ='b')\n",
    "c = Value(10.0,label ='c')\n",
    "e = a * b; e.label = 'e'\n",
    "d = e + c; d.label = 'd'\n",
    "f = Value(-2.0, label = 'f')\n",
    "L = d * f; L.label = 'L'\n",
    "L"
   ]
  },
  {
   "cell_type": "code",
   "execution_count": 87,
   "id": "50b58a7e-0adf-4443-801c-b13380f4ac38",
   "metadata": {},
   "outputs": [],
   "source": [
    "from graphviz import Digraph \n",
    "\n",
    "def trace(root): \n",
    "    #builds a set of all nodes and edges in a graph \n",
    "    nodes, edges = set(), set() \n",
    "    \n",
    "    def build(v): \n",
    "        if v not in nodes: \n",
    "            nodes.add(v) \n",
    "            for child in v._prev: \n",
    "                edges.add((child, v)) \n",
    "                build(child) \n",
    "    \n",
    "    build(root) \n",
    "    return nodes, edges \n",
    "\n",
    "def draw_dot(root): \n",
    "    dot = Digraph(format='svg', graph_attr={'rankdir': 'LR'}) # LR left to right \n",
    "    \n",
    "    nodes, edges = trace(root) \n",
    "    for n in nodes: \n",
    "        uid = str(id(n)) \n",
    "        # for any value in the graph, create a rectangular (record) node for it \n",
    "        dot.node(name=uid, label=\"{%s | data %.4f}\" % (n.label, n.data), shape=\"record\") \n",
    "        if n._op: \n",
    "            # if this value is a result of some operation, create an op node for it \n",
    "            dot.node(name=uid + n._op, label=n._op) \n",
    "            # and connect this node to it \n",
    "            dot.edge(uid + n._op, uid) \n",
    "    \n",
    "    for n1, n2 in edges: \n",
    "        # connect n1 to the op node of n2 \n",
    "        dot.edge(str(id(n1)), str(id(n2)) + n2._op) \n",
    "    \n",
    "    return dot\n"
   ]
  },
  {
   "cell_type": "code",
   "execution_count": 88,
   "id": "6f939b3c-704c-48eb-aecc-8f6112736477",
   "metadata": {},
   "outputs": [
    {
     "data": {
      "image/svg+xml": [
       "<?xml version=\"1.0\" encoding=\"UTF-8\" standalone=\"no\"?>\n",
       "<!DOCTYPE svg PUBLIC \"-//W3C//DTD SVG 1.1//EN\"\n",
       " \"http://www.w3.org/Graphics/SVG/1.1/DTD/svg11.dtd\">\n",
       "<!-- Generated by graphviz version 2.43.0 (0)\n",
       " -->\n",
       "<!-- Title: %3 Pages: 1 -->\n",
       "<svg width=\"916pt\" height=\"154pt\"\n",
       " viewBox=\"0.00 0.00 916.00 154.00\" xmlns=\"http://www.w3.org/2000/svg\" xmlns:xlink=\"http://www.w3.org/1999/xlink\">\n",
       "<g id=\"graph0\" class=\"graph\" transform=\"scale(1 1) rotate(0) translate(4 150)\">\n",
       "<title>%3</title>\n",
       "<polygon fill=\"white\" stroke=\"transparent\" points=\"-4,4 -4,-150 912,-150 912,4 -4,4\"/>\n",
       "<!-- 130270206105088 -->\n",
       "<g id=\"node1\" class=\"node\">\n",
       "<title>130270206105088</title>\n",
       "<polygon fill=\"none\" stroke=\"black\" points=\"520,-109.5 520,-145.5 649,-145.5 649,-109.5 520,-109.5\"/>\n",
       "<text text-anchor=\"middle\" x=\"531\" y=\"-123.8\" font-family=\"Times,serif\" font-size=\"14.00\">f</text>\n",
       "<polyline fill=\"none\" stroke=\"black\" points=\"542,-109.5 542,-145.5 \"/>\n",
       "<text text-anchor=\"middle\" x=\"595.5\" y=\"-123.8\" font-family=\"Times,serif\" font-size=\"14.00\">data &#45;2.0000</text>\n",
       "</g>\n",
       "<!-- 130270206101392* -->\n",
       "<g id=\"node7\" class=\"node\">\n",
       "<title>130270206101392*</title>\n",
       "<ellipse fill=\"none\" stroke=\"black\" cx=\"712\" cy=\"-99.5\" rx=\"27\" ry=\"18\"/>\n",
       "<text text-anchor=\"middle\" x=\"712\" y=\"-95.8\" font-family=\"Times,serif\" font-size=\"14.00\">*</text>\n",
       "</g>\n",
       "<!-- 130270206105088&#45;&gt;130270206101392* -->\n",
       "<g id=\"edge8\" class=\"edge\">\n",
       "<title>130270206105088&#45;&gt;130270206101392*</title>\n",
       "<path fill=\"none\" stroke=\"black\" d=\"M649.35,-113.25C658.65,-111.18 667.92,-109.11 676.33,-107.23\"/>\n",
       "<polygon fill=\"black\" stroke=\"black\" points=\"677.13,-110.64 686.13,-105.05 675.6,-103.81 677.13,-110.64\"/>\n",
       "</g>\n",
       "<!-- 130270206102160 -->\n",
       "<g id=\"node2\" class=\"node\">\n",
       "<title>130270206102160</title>\n",
       "<polygon fill=\"none\" stroke=\"black\" points=\"259,-82.5 259,-118.5 394,-118.5 394,-82.5 259,-82.5\"/>\n",
       "<text text-anchor=\"middle\" x=\"271\" y=\"-96.8\" font-family=\"Times,serif\" font-size=\"14.00\">c</text>\n",
       "<polyline fill=\"none\" stroke=\"black\" points=\"283,-82.5 283,-118.5 \"/>\n",
       "<text text-anchor=\"middle\" x=\"338.5\" y=\"-96.8\" font-family=\"Times,serif\" font-size=\"14.00\">data 10.0000</text>\n",
       "</g>\n",
       "<!-- 130270206100384+ -->\n",
       "<g id=\"node9\" class=\"node\">\n",
       "<title>130270206100384+</title>\n",
       "<ellipse fill=\"none\" stroke=\"black\" cx=\"457\" cy=\"-72.5\" rx=\"27\" ry=\"18\"/>\n",
       "<text text-anchor=\"middle\" x=\"457\" y=\"-68.8\" font-family=\"Times,serif\" font-size=\"14.00\">+</text>\n",
       "</g>\n",
       "<!-- 130270206102160&#45;&gt;130270206100384+ -->\n",
       "<g id=\"edge6\" class=\"edge\">\n",
       "<title>130270206102160&#45;&gt;130270206100384+</title>\n",
       "<path fill=\"none\" stroke=\"black\" d=\"M394.01,-86.01C403.41,-83.96 412.75,-81.92 421.22,-80.08\"/>\n",
       "<polygon fill=\"black\" stroke=\"black\" points=\"422.04,-83.48 431.06,-77.93 420.55,-76.64 422.04,-83.48\"/>\n",
       "</g>\n",
       "<!-- 130270206100240 -->\n",
       "<g id=\"node3\" class=\"node\">\n",
       "<title>130270206100240</title>\n",
       "<polygon fill=\"none\" stroke=\"black\" points=\"260.5,-27.5 260.5,-63.5 392.5,-63.5 392.5,-27.5 260.5,-27.5\"/>\n",
       "<text text-anchor=\"middle\" x=\"273\" y=\"-41.8\" font-family=\"Times,serif\" font-size=\"14.00\">e</text>\n",
       "<polyline fill=\"none\" stroke=\"black\" points=\"285.5,-27.5 285.5,-63.5 \"/>\n",
       "<text text-anchor=\"middle\" x=\"339\" y=\"-41.8\" font-family=\"Times,serif\" font-size=\"14.00\">data &#45;6.0000</text>\n",
       "</g>\n",
       "<!-- 130270206100240&#45;&gt;130270206100384+ -->\n",
       "<g id=\"edge7\" class=\"edge\">\n",
       "<title>130270206100240&#45;&gt;130270206100384+</title>\n",
       "<path fill=\"none\" stroke=\"black\" d=\"M392.5,-59.16C402.35,-61.23 412.17,-63.29 421.04,-65.15\"/>\n",
       "<polygon fill=\"black\" stroke=\"black\" points=\"420.46,-68.61 430.96,-67.24 421.9,-61.76 420.46,-68.61\"/>\n",
       "</g>\n",
       "<!-- 130270206100240* -->\n",
       "<g id=\"node4\" class=\"node\">\n",
       "<title>130270206100240*</title>\n",
       "<ellipse fill=\"none\" stroke=\"black\" cx=\"196\" cy=\"-45.5\" rx=\"27\" ry=\"18\"/>\n",
       "<text text-anchor=\"middle\" x=\"196\" y=\"-41.8\" font-family=\"Times,serif\" font-size=\"14.00\">*</text>\n",
       "</g>\n",
       "<!-- 130270206100240*&#45;&gt;130270206100240 -->\n",
       "<g id=\"edge1\" class=\"edge\">\n",
       "<title>130270206100240*&#45;&gt;130270206100240</title>\n",
       "<path fill=\"none\" stroke=\"black\" d=\"M223,-45.5C231.11,-45.5 240.5,-45.5 250.24,-45.5\"/>\n",
       "<polygon fill=\"black\" stroke=\"black\" points=\"250.47,-49 260.47,-45.5 250.47,-42 250.47,-49\"/>\n",
       "</g>\n",
       "<!-- 130270206104944 -->\n",
       "<g id=\"node5\" class=\"node\">\n",
       "<title>130270206104944</title>\n",
       "<polygon fill=\"none\" stroke=\"black\" points=\"0,-55.5 0,-91.5 133,-91.5 133,-55.5 0,-55.5\"/>\n",
       "<text text-anchor=\"middle\" x=\"13\" y=\"-69.8\" font-family=\"Times,serif\" font-size=\"14.00\">b</text>\n",
       "<polyline fill=\"none\" stroke=\"black\" points=\"26,-55.5 26,-91.5 \"/>\n",
       "<text text-anchor=\"middle\" x=\"79.5\" y=\"-69.8\" font-family=\"Times,serif\" font-size=\"14.00\">data &#45;3.0000</text>\n",
       "</g>\n",
       "<!-- 130270206104944&#45;&gt;130270206100240* -->\n",
       "<g id=\"edge4\" class=\"edge\">\n",
       "<title>130270206104944&#45;&gt;130270206100240*</title>\n",
       "<path fill=\"none\" stroke=\"black\" d=\"M133.12,-59.09C142.49,-57.03 151.8,-54.99 160.25,-53.13\"/>\n",
       "<polygon fill=\"black\" stroke=\"black\" points=\"161.06,-56.54 170.08,-50.97 159.56,-49.7 161.06,-56.54\"/>\n",
       "</g>\n",
       "<!-- 130270206101392 -->\n",
       "<g id=\"node6\" class=\"node\">\n",
       "<title>130270206101392</title>\n",
       "<polygon fill=\"none\" stroke=\"black\" points=\"775,-81.5 775,-117.5 908,-117.5 908,-81.5 775,-81.5\"/>\n",
       "<text text-anchor=\"middle\" x=\"788\" y=\"-95.8\" font-family=\"Times,serif\" font-size=\"14.00\">L</text>\n",
       "<polyline fill=\"none\" stroke=\"black\" points=\"801,-81.5 801,-117.5 \"/>\n",
       "<text text-anchor=\"middle\" x=\"854.5\" y=\"-95.8\" font-family=\"Times,serif\" font-size=\"14.00\">data &#45;8.0000</text>\n",
       "</g>\n",
       "<!-- 130270206101392*&#45;&gt;130270206101392 -->\n",
       "<g id=\"edge2\" class=\"edge\">\n",
       "<title>130270206101392*&#45;&gt;130270206101392</title>\n",
       "<path fill=\"none\" stroke=\"black\" d=\"M739.11,-99.5C746.81,-99.5 755.66,-99.5 764.85,-99.5\"/>\n",
       "<polygon fill=\"black\" stroke=\"black\" points=\"764.92,-103 774.92,-99.5 764.92,-96 764.92,-103\"/>\n",
       "</g>\n",
       "<!-- 130270206100384 -->\n",
       "<g id=\"node8\" class=\"node\">\n",
       "<title>130270206100384</title>\n",
       "<polygon fill=\"none\" stroke=\"black\" points=\"520.5,-54.5 520.5,-90.5 648.5,-90.5 648.5,-54.5 520.5,-54.5\"/>\n",
       "<text text-anchor=\"middle\" x=\"533.5\" y=\"-68.8\" font-family=\"Times,serif\" font-size=\"14.00\">d</text>\n",
       "<polyline fill=\"none\" stroke=\"black\" points=\"546.5,-54.5 546.5,-90.5 \"/>\n",
       "<text text-anchor=\"middle\" x=\"597.5\" y=\"-68.8\" font-family=\"Times,serif\" font-size=\"14.00\">data 4.0000</text>\n",
       "</g>\n",
       "<!-- 130270206100384&#45;&gt;130270206101392* -->\n",
       "<g id=\"edge9\" class=\"edge\">\n",
       "<title>130270206100384&#45;&gt;130270206101392*</title>\n",
       "<path fill=\"none\" stroke=\"black\" d=\"M648.62,-86.08C658.08,-88.11 667.53,-90.15 676.1,-91.99\"/>\n",
       "<polygon fill=\"black\" stroke=\"black\" points=\"675.56,-95.46 686.08,-94.14 677.04,-88.61 675.56,-95.46\"/>\n",
       "</g>\n",
       "<!-- 130270206100384+&#45;&gt;130270206100384 -->\n",
       "<g id=\"edge3\" class=\"edge\">\n",
       "<title>130270206100384+&#45;&gt;130270206100384</title>\n",
       "<path fill=\"none\" stroke=\"black\" d=\"M484,-72.5C491.81,-72.5 500.78,-72.5 510.08,-72.5\"/>\n",
       "<polygon fill=\"black\" stroke=\"black\" points=\"510.25,-76 520.25,-72.5 510.25,-69 510.25,-76\"/>\n",
       "</g>\n",
       "<!-- 130270206101488 -->\n",
       "<g id=\"node10\" class=\"node\">\n",
       "<title>130270206101488</title>\n",
       "<polygon fill=\"none\" stroke=\"black\" points=\"3,-0.5 3,-36.5 130,-36.5 130,-0.5 3,-0.5\"/>\n",
       "<text text-anchor=\"middle\" x=\"15.5\" y=\"-14.8\" font-family=\"Times,serif\" font-size=\"14.00\">a</text>\n",
       "<polyline fill=\"none\" stroke=\"black\" points=\"28,-0.5 28,-36.5 \"/>\n",
       "<text text-anchor=\"middle\" x=\"79\" y=\"-14.8\" font-family=\"Times,serif\" font-size=\"14.00\">data 2.0000</text>\n",
       "</g>\n",
       "<!-- 130270206101488&#45;&gt;130270206100240* -->\n",
       "<g id=\"edge5\" class=\"edge\">\n",
       "<title>130270206101488&#45;&gt;130270206100240*</title>\n",
       "<path fill=\"none\" stroke=\"black\" d=\"M130.13,-31.76C140.38,-33.93 150.67,-36.11 159.93,-38.07\"/>\n",
       "<polygon fill=\"black\" stroke=\"black\" points=\"159.4,-41.54 169.91,-40.19 160.85,-34.69 159.4,-41.54\"/>\n",
       "</g>\n",
       "</g>\n",
       "</svg>\n"
      ],
      "text/plain": [
       "<graphviz.graphs.Digraph at 0x767ae55b9ea0>"
      ]
     },
     "execution_count": 88,
     "metadata": {},
     "output_type": "execute_result"
    }
   ],
   "source": [
    "draw_dot(L)"
   ]
  },
  {
   "cell_type": "code",
   "execution_count": null,
   "id": "a897ab00-e9a3-4d36-bf36-dc0c470bf3fc",
   "metadata": {},
   "outputs": [],
   "source": [
    "#Back Pass"
   ]
  },
  {
   "cell_type": "code",
   "execution_count": 89,
   "id": "5f79c122-0cef-4811-9cce-4b51b50ac433",
   "metadata": {},
   "outputs": [
    {
     "data": {
      "text/plain": [
       "Value(data = -8.0"
      ]
     },
     "execution_count": 89,
     "metadata": {},
     "output_type": "execute_result"
    }
   ],
   "source": [
    "class Value:\n",
    "    def __init__(self, data, _children=(), _op='', label =''):\n",
    "        self.data = data \n",
    "        self.grad = 0.0\n",
    "        self._prev = set(_children)\n",
    "        self._op = _op\n",
    "        self.label = label\n",
    "        \n",
    "    def __repr__(self):\n",
    "     return f\"Value(data = {self.data}\"\n",
    "        \n",
    "    def __add__(self, other):\n",
    "        out = Value(self.data + other.data,(self, other),'+')\n",
    "        return out\n",
    "        \n",
    "    def __mul__(self, other):\n",
    "        out = Value(self.data * other.data,(self, other),'*')\n",
    "        return out\n",
    "        \n",
    "a = Value(2.0, label ='a')\n",
    "b = Value(-3.0, label ='b')\n",
    "c = Value(10.0,label ='c')\n",
    "e = a * b; e.label = 'e'\n",
    "d = e + c; d.label = 'd'\n",
    "f = Value(-2.0, label = 'f')\n",
    "L = d * f; L.label = 'L'\n",
    "L"
   ]
  },
  {
   "cell_type": "code",
   "execution_count": 90,
   "id": "7313a0f2-c7b8-40fe-b295-8796067cee2a",
   "metadata": {},
   "outputs": [],
   "source": [
    "from graphviz import Digraph \n",
    "\n",
    "def trace(root): \n",
    "    #builds a set of all nodes and edges in a graph \n",
    "    nodes, edges = set(), set() \n",
    "    \n",
    "    def build(v): \n",
    "        if v not in nodes: \n",
    "            nodes.add(v) \n",
    "            for child in v._prev: \n",
    "                edges.add((child, v)) \n",
    "                build(child) \n",
    "    \n",
    "    build(root) \n",
    "    return nodes, edges \n",
    "\n",
    "def draw_dot(root): \n",
    "    dot = Digraph(format='svg', graph_attr={'rankdir': 'LR'}) # LR left to right \n",
    "    \n",
    "    nodes, edges = trace(root) \n",
    "    for n in nodes: \n",
    "        uid = str(id(n)) \n",
    "        # for any value in the graph, create a rectangular (record) node for it \n",
    "        dot.node(name=uid, label=\"{%s | data %.4f | grad %.4f}\" % (n.label, n.data, n.grad), shape=\"record\") \n",
    "        if n._op: \n",
    "            # if this value is a result of some operation, create an op node for it \n",
    "            dot.node(name=uid + n._op, label=n._op) \n",
    "            # and connect this node to it \n",
    "            dot.edge(uid + n._op, uid) \n",
    "    \n",
    "    for n1, n2 in edges: \n",
    "        # connect n1 to the op node of n2 \n",
    "        dot.edge(str(id(n1)), str(id(n2)) + n2._op) \n",
    "    \n",
    "    return dot\n"
   ]
  },
  {
   "cell_type": "code",
   "execution_count": 101,
   "id": "fe4e0bb9-9e99-4936-b06d-00a0426b3426",
   "metadata": {},
   "outputs": [
    {
     "data": {
      "image/svg+xml": [
       "<?xml version=\"1.0\" encoding=\"UTF-8\" standalone=\"no\"?>\n",
       "<!DOCTYPE svg PUBLIC \"-//W3C//DTD SVG 1.1//EN\"\n",
       " \"http://www.w3.org/Graphics/SVG/1.1/DTD/svg11.dtd\">\n",
       "<!-- Generated by graphviz version 2.43.0 (0)\n",
       " -->\n",
       "<!-- Title: %3 Pages: 1 -->\n",
       "<svg width=\"1332pt\" height=\"154pt\"\n",
       " viewBox=\"0.00 0.00 1332.00 154.00\" xmlns=\"http://www.w3.org/2000/svg\" xmlns:xlink=\"http://www.w3.org/1999/xlink\">\n",
       "<g id=\"graph0\" class=\"graph\" transform=\"scale(1 1) rotate(0) translate(4 150)\">\n",
       "<title>%3</title>\n",
       "<polygon fill=\"white\" stroke=\"transparent\" points=\"-4,4 -4,-150 1328,-150 1328,4 -4,4\"/>\n",
       "<!-- 130270204799504 -->\n",
       "<g id=\"node1\" class=\"node\">\n",
       "<title>130270204799504</title>\n",
       "<polygon fill=\"none\" stroke=\"black\" points=\"364.5,-27.5 364.5,-63.5 600.5,-63.5 600.5,-27.5 364.5,-27.5\"/>\n",
       "<text text-anchor=\"middle\" x=\"377\" y=\"-41.8\" font-family=\"Times,serif\" font-size=\"14.00\">e</text>\n",
       "<polyline fill=\"none\" stroke=\"black\" points=\"389.5,-27.5 389.5,-63.5 \"/>\n",
       "<text text-anchor=\"middle\" x=\"443\" y=\"-41.8\" font-family=\"Times,serif\" font-size=\"14.00\">data &#45;6.0000</text>\n",
       "<polyline fill=\"none\" stroke=\"black\" points=\"496.5,-27.5 496.5,-63.5 \"/>\n",
       "<text text-anchor=\"middle\" x=\"548.5\" y=\"-41.8\" font-family=\"Times,serif\" font-size=\"14.00\">grad 0.0000</text>\n",
       "</g>\n",
       "<!-- 130270204801568+ -->\n",
       "<g id=\"node4\" class=\"node\">\n",
       "<title>130270204801568+</title>\n",
       "<ellipse fill=\"none\" stroke=\"black\" cx=\"665\" cy=\"-72.5\" rx=\"27\" ry=\"18\"/>\n",
       "<text text-anchor=\"middle\" x=\"665\" y=\"-68.8\" font-family=\"Times,serif\" font-size=\"14.00\">+</text>\n",
       "</g>\n",
       "<!-- 130270204799504&#45;&gt;130270204801568+ -->\n",
       "<g id=\"edge5\" class=\"edge\">\n",
       "<title>130270204799504&#45;&gt;130270204801568+</title>\n",
       "<path fill=\"none\" stroke=\"black\" d=\"M600.62,-63.02C610.5,-64.5 619.9,-65.9 628.3,-67.16\"/>\n",
       "<polygon fill=\"black\" stroke=\"black\" points=\"627.95,-70.65 638.36,-68.66 628.99,-63.72 627.95,-70.65\"/>\n",
       "</g>\n",
       "<!-- 130270204799504* -->\n",
       "<g id=\"node2\" class=\"node\">\n",
       "<title>130270204799504*</title>\n",
       "<ellipse fill=\"none\" stroke=\"black\" cx=\"300\" cy=\"-45.5\" rx=\"27\" ry=\"18\"/>\n",
       "<text text-anchor=\"middle\" x=\"300\" y=\"-41.8\" font-family=\"Times,serif\" font-size=\"14.00\">*</text>\n",
       "</g>\n",
       "<!-- 130270204799504*&#45;&gt;130270204799504 -->\n",
       "<g id=\"edge1\" class=\"edge\">\n",
       "<title>130270204799504*&#45;&gt;130270204799504</title>\n",
       "<path fill=\"none\" stroke=\"black\" d=\"M327.25,-45.5C335.09,-45.5 344.27,-45.5 354.17,-45.5\"/>\n",
       "<polygon fill=\"black\" stroke=\"black\" points=\"354.28,-49 364.28,-45.5 354.28,-42 354.28,-49\"/>\n",
       "</g>\n",
       "<!-- 130270204801568 -->\n",
       "<g id=\"node3\" class=\"node\">\n",
       "<title>130270204801568</title>\n",
       "<polygon fill=\"none\" stroke=\"black\" points=\"728.5,-54.5 728.5,-90.5 960.5,-90.5 960.5,-54.5 728.5,-54.5\"/>\n",
       "<text text-anchor=\"middle\" x=\"741.5\" y=\"-68.8\" font-family=\"Times,serif\" font-size=\"14.00\">d</text>\n",
       "<polyline fill=\"none\" stroke=\"black\" points=\"754.5,-54.5 754.5,-90.5 \"/>\n",
       "<text text-anchor=\"middle\" x=\"805.5\" y=\"-68.8\" font-family=\"Times,serif\" font-size=\"14.00\">data 4.0000</text>\n",
       "<polyline fill=\"none\" stroke=\"black\" points=\"856.5,-54.5 856.5,-90.5 \"/>\n",
       "<text text-anchor=\"middle\" x=\"908.5\" y=\"-68.8\" font-family=\"Times,serif\" font-size=\"14.00\">grad 0.0000</text>\n",
       "</g>\n",
       "<!-- 130270204801856* -->\n",
       "<g id=\"node8\" class=\"node\">\n",
       "<title>130270204801856*</title>\n",
       "<ellipse fill=\"none\" stroke=\"black\" cx=\"1024\" cy=\"-99.5\" rx=\"27\" ry=\"18\"/>\n",
       "<text text-anchor=\"middle\" x=\"1024\" y=\"-95.8\" font-family=\"Times,serif\" font-size=\"14.00\">*</text>\n",
       "</g>\n",
       "<!-- 130270204801568&#45;&gt;130270204801856* -->\n",
       "<g id=\"edge7\" class=\"edge\">\n",
       "<title>130270204801568&#45;&gt;130270204801856*</title>\n",
       "<path fill=\"none\" stroke=\"black\" d=\"M960.92,-90.06C970.4,-91.5 979.44,-92.87 987.54,-94.11\"/>\n",
       "<polygon fill=\"black\" stroke=\"black\" points=\"987.19,-97.59 997.6,-95.64 988.24,-90.67 987.19,-97.59\"/>\n",
       "</g>\n",
       "<!-- 130270204801568+&#45;&gt;130270204801568 -->\n",
       "<g id=\"edge2\" class=\"edge\">\n",
       "<title>130270204801568+&#45;&gt;130270204801568</title>\n",
       "<path fill=\"none\" stroke=\"black\" d=\"M692.19,-72.5C699.78,-72.5 708.61,-72.5 718.11,-72.5\"/>\n",
       "<polygon fill=\"black\" stroke=\"black\" points=\"718.24,-76 728.24,-72.5 718.24,-69 718.24,-76\"/>\n",
       "</g>\n",
       "<!-- 130270204801760 -->\n",
       "<g id=\"node5\" class=\"node\">\n",
       "<title>130270204801760</title>\n",
       "<polygon fill=\"none\" stroke=\"black\" points=\"3,-55.5 3,-91.5 234,-91.5 234,-55.5 3,-55.5\"/>\n",
       "<text text-anchor=\"middle\" x=\"15.5\" y=\"-69.8\" font-family=\"Times,serif\" font-size=\"14.00\">a</text>\n",
       "<polyline fill=\"none\" stroke=\"black\" points=\"28,-55.5 28,-91.5 \"/>\n",
       "<text text-anchor=\"middle\" x=\"79\" y=\"-69.8\" font-family=\"Times,serif\" font-size=\"14.00\">data 2.0000</text>\n",
       "<polyline fill=\"none\" stroke=\"black\" points=\"130,-55.5 130,-91.5 \"/>\n",
       "<text text-anchor=\"middle\" x=\"182\" y=\"-69.8\" font-family=\"Times,serif\" font-size=\"14.00\">grad 0.0000</text>\n",
       "</g>\n",
       "<!-- 130270204801760&#45;&gt;130270204799504* -->\n",
       "<g id=\"edge6\" class=\"edge\">\n",
       "<title>130270204801760&#45;&gt;130270204799504*</title>\n",
       "<path fill=\"none\" stroke=\"black\" d=\"M234.2,-55.61C244.76,-53.96 254.83,-52.39 263.74,-51\"/>\n",
       "<polygon fill=\"black\" stroke=\"black\" points=\"264.3,-54.46 273.64,-49.46 263.22,-47.54 264.3,-54.46\"/>\n",
       "</g>\n",
       "<!-- 130270204803872 -->\n",
       "<g id=\"node6\" class=\"node\">\n",
       "<title>130270204803872</title>\n",
       "<polygon fill=\"none\" stroke=\"black\" points=\"0,-0.5 0,-36.5 237,-36.5 237,-0.5 0,-0.5\"/>\n",
       "<text text-anchor=\"middle\" x=\"13\" y=\"-14.8\" font-family=\"Times,serif\" font-size=\"14.00\">b</text>\n",
       "<polyline fill=\"none\" stroke=\"black\" points=\"26,-0.5 26,-36.5 \"/>\n",
       "<text text-anchor=\"middle\" x=\"79.5\" y=\"-14.8\" font-family=\"Times,serif\" font-size=\"14.00\">data &#45;3.0000</text>\n",
       "<polyline fill=\"none\" stroke=\"black\" points=\"133,-0.5 133,-36.5 \"/>\n",
       "<text text-anchor=\"middle\" x=\"185\" y=\"-14.8\" font-family=\"Times,serif\" font-size=\"14.00\">grad 0.0000</text>\n",
       "</g>\n",
       "<!-- 130270204803872&#45;&gt;130270204799504* -->\n",
       "<g id=\"edge4\" class=\"edge\">\n",
       "<title>130270204803872&#45;&gt;130270204799504*</title>\n",
       "<path fill=\"none\" stroke=\"black\" d=\"M237.23,-36.21C246.6,-37.62 255.52,-38.96 263.52,-40.16\"/>\n",
       "<polygon fill=\"black\" stroke=\"black\" points=\"263.06,-43.63 273.47,-41.66 264.1,-36.71 263.06,-43.63\"/>\n",
       "</g>\n",
       "<!-- 130270204801856 -->\n",
       "<g id=\"node7\" class=\"node\">\n",
       "<title>130270204801856</title>\n",
       "<polygon fill=\"none\" stroke=\"black\" points=\"1087,-81.5 1087,-117.5 1324,-117.5 1324,-81.5 1087,-81.5\"/>\n",
       "<text text-anchor=\"middle\" x=\"1100\" y=\"-95.8\" font-family=\"Times,serif\" font-size=\"14.00\">L</text>\n",
       "<polyline fill=\"none\" stroke=\"black\" points=\"1113,-81.5 1113,-117.5 \"/>\n",
       "<text text-anchor=\"middle\" x=\"1166.5\" y=\"-95.8\" font-family=\"Times,serif\" font-size=\"14.00\">data &#45;8.0000</text>\n",
       "<polyline fill=\"none\" stroke=\"black\" points=\"1220,-81.5 1220,-117.5 \"/>\n",
       "<text text-anchor=\"middle\" x=\"1272\" y=\"-95.8\" font-family=\"Times,serif\" font-size=\"14.00\">grad 1.0000</text>\n",
       "</g>\n",
       "<!-- 130270204801856*&#45;&gt;130270204801856 -->\n",
       "<g id=\"edge3\" class=\"edge\">\n",
       "<title>130270204801856*&#45;&gt;130270204801856</title>\n",
       "<path fill=\"none\" stroke=\"black\" d=\"M1051.1,-99.5C1058.61,-99.5 1067.33,-99.5 1076.75,-99.5\"/>\n",
       "<polygon fill=\"black\" stroke=\"black\" points=\"1076.78,-103 1086.78,-99.5 1076.78,-96 1076.78,-103\"/>\n",
       "</g>\n",
       "<!-- 130270204800320 -->\n",
       "<g id=\"node9\" class=\"node\">\n",
       "<title>130270204800320</title>\n",
       "<polygon fill=\"none\" stroke=\"black\" points=\"728,-109.5 728,-145.5 961,-145.5 961,-109.5 728,-109.5\"/>\n",
       "<text text-anchor=\"middle\" x=\"739\" y=\"-123.8\" font-family=\"Times,serif\" font-size=\"14.00\">f</text>\n",
       "<polyline fill=\"none\" stroke=\"black\" points=\"750,-109.5 750,-145.5 \"/>\n",
       "<text text-anchor=\"middle\" x=\"803.5\" y=\"-123.8\" font-family=\"Times,serif\" font-size=\"14.00\">data &#45;2.0000</text>\n",
       "<polyline fill=\"none\" stroke=\"black\" points=\"857,-109.5 857,-145.5 \"/>\n",
       "<text text-anchor=\"middle\" x=\"909\" y=\"-123.8\" font-family=\"Times,serif\" font-size=\"14.00\">grad 0.0000</text>\n",
       "</g>\n",
       "<!-- 130270204800320&#45;&gt;130270204801856* -->\n",
       "<g id=\"edge8\" class=\"edge\">\n",
       "<title>130270204800320&#45;&gt;130270204801856*</title>\n",
       "<path fill=\"none\" stroke=\"black\" d=\"M959.67,-109.49C969.61,-107.92 979.08,-106.43 987.53,-105.1\"/>\n",
       "<polygon fill=\"black\" stroke=\"black\" points=\"988.31,-108.52 997.64,-103.5 987.22,-101.6 988.31,-108.52\"/>\n",
       "</g>\n",
       "<!-- 130270204802000 -->\n",
       "<g id=\"node10\" class=\"node\">\n",
       "<title>130270204802000</title>\n",
       "<polygon fill=\"none\" stroke=\"black\" points=\"363,-82.5 363,-118.5 602,-118.5 602,-82.5 363,-82.5\"/>\n",
       "<text text-anchor=\"middle\" x=\"375\" y=\"-96.8\" font-family=\"Times,serif\" font-size=\"14.00\">c</text>\n",
       "<polyline fill=\"none\" stroke=\"black\" points=\"387,-82.5 387,-118.5 \"/>\n",
       "<text text-anchor=\"middle\" x=\"442.5\" y=\"-96.8\" font-family=\"Times,serif\" font-size=\"14.00\">data 10.0000</text>\n",
       "<polyline fill=\"none\" stroke=\"black\" points=\"498,-82.5 498,-118.5 \"/>\n",
       "<text text-anchor=\"middle\" x=\"550\" y=\"-96.8\" font-family=\"Times,serif\" font-size=\"14.00\">grad 0.0000</text>\n",
       "</g>\n",
       "<!-- 130270204802000&#45;&gt;130270204801568+ -->\n",
       "<g id=\"edge9\" class=\"edge\">\n",
       "<title>130270204802000&#45;&gt;130270204801568+</title>\n",
       "<path fill=\"none\" stroke=\"black\" d=\"M599.6,-82.49C609.91,-80.89 619.74,-79.37 628.46,-78.01\"/>\n",
       "<polygon fill=\"black\" stroke=\"black\" points=\"629.18,-81.44 638.52,-76.45 628.1,-74.53 629.18,-81.44\"/>\n",
       "</g>\n",
       "</g>\n",
       "</svg>\n"
      ],
      "text/plain": [
       "<graphviz.graphs.Digraph at 0x767ae5483be0>"
      ]
     },
     "execution_count": 101,
     "metadata": {},
     "output_type": "execute_result"
    }
   ],
   "source": [
    "draw_dot(L)"
   ]
  },
  {
   "cell_type": "code",
   "execution_count": null,
   "id": "c748b1b3-8c26-41ed-b05f-d4a144666d1c",
   "metadata": {},
   "outputs": [],
   "source": [
    "L = d * f\n",
    "dL/dd =? f\n",
    "(f(x*h)-f(x)/h"
   ]
  },
  {
   "cell_type": "code",
   "execution_count": 102,
   "id": "d340f028-1b8b-4f02-951a-cdac396df160",
   "metadata": {},
   "outputs": [],
   "source": [
    "L.grad = 1.0\n",
    "f.grad = 4.0\n",
    "d.grad = -2"
   ]
  },
  {
   "cell_type": "code",
   "execution_count": 104,
   "id": "f30da89e-ca07-471e-a352-dc4e31a1aed7",
   "metadata": {},
   "outputs": [
    {
     "name": "stdout",
     "output_type": "stream",
     "text": [
      "3.9999999999995595\n"
     ]
    }
   ],
   "source": [
    "def lol():\n",
    "    \n",
    "    h = 0.001 \n",
    "    \n",
    "    a = Value(2.0, label ='a')\n",
    "    b = Value(-3.0, label ='b')\n",
    "    c = Value(10.0,label ='c')\n",
    "    e = a * b; e.label = 'e'\n",
    "    d = e + c; d.label = 'd'\n",
    "    f = Value(-2.0, label = 'f')\n",
    "    L = d * f; L.label = 'L'\n",
    "    L1 = L.data\n",
    "\n",
    "    a = Value(2.0, label ='a')\n",
    "    b = Value(-3.0, label ='b')\n",
    "    c = Value(10.0,label ='c')\n",
    "    e = a * b; e.label = 'e'\n",
    "    d = e + c; d.label = 'd'\n",
    "    f = Value(-2.0+h, label = 'f')\n",
    "    L = d * f; L.label = 'L'\n",
    "    L2 = L.data\n",
    "\n",
    "    print((L2-L1)/h)\n",
    "\n",
    "lol()"
   ]
  },
  {
   "cell_type": "code",
   "execution_count": 106,
   "id": "db2de1cb-8a64-4bf8-8352-56af52627a6f",
   "metadata": {},
   "outputs": [
    {
     "name": "stdout",
     "output_type": "stream",
     "text": [
      "-2.000000000000668\n"
     ]
    }
   ],
   "source": [
    "def lol():\n",
    "    \n",
    "    h = 0.001 \n",
    "    \n",
    "    a = Value(2.0, label ='a')\n",
    "    b = Value(-3.0, label ='b')\n",
    "    c = Value(10.0,label ='c')\n",
    "    e = a * b; e.label = 'e'\n",
    "    d = e + c; d.label = 'd'\n",
    "    f = Value(-2.0, label = 'f')\n",
    "    L = d * f; L.label = 'L'\n",
    "    L1 = L.data\n",
    "\n",
    "    a = Value(2.0, label ='a')\n",
    "    b = Value(-3.0, label ='b')\n",
    "    c = Value(10.0,label ='c')\n",
    "    e = a * b; e.label = 'e'\n",
    "    d = e + c; d.label = 'd'\n",
    "    d.data += h\n",
    "    f = Value(-2.0, label = 'f')\n",
    "    L = d * f; L.label = 'L'\n",
    "    L2 = L.data\n",
    "\n",
    "    print((L2-L1)/h)\n",
    "\n",
    "lol()"
   ]
  },
  {
   "cell_type": "code",
   "execution_count": null,
   "id": "21d8e2e1-a204-46fe-9bd8-670671598ea3",
   "metadata": {},
   "outputs": [],
   "source": []
  },
  {
   "cell_type": "code",
   "execution_count": null,
   "id": "0f20e436-b0c7-457a-8fb1-9aa4188c8bd5",
   "metadata": {},
   "outputs": [],
   "source": []
  },
  {
   "cell_type": "code",
   "execution_count": null,
   "id": "ccb3da4f-1d11-4c2a-86f3-34738bdf93ce",
   "metadata": {},
   "outputs": [],
   "source": []
  },
  {
   "cell_type": "code",
   "execution_count": null,
   "id": "db24e7ff-5f2a-4b46-b3a4-ea57f394c497",
   "metadata": {},
   "outputs": [],
   "source": []
  },
  {
   "cell_type": "code",
   "execution_count": null,
   "id": "677db818-c8f1-4ef8-98b7-0bb500ef660f",
   "metadata": {},
   "outputs": [],
   "source": []
  },
  {
   "cell_type": "code",
   "execution_count": null,
   "id": "60c0e91c-5fe0-4f74-ac02-62588c615473",
   "metadata": {},
   "outputs": [],
   "source": []
  },
  {
   "cell_type": "code",
   "execution_count": null,
   "id": "101b80ec-d209-4906-8562-ec305bafce8a",
   "metadata": {},
   "outputs": [],
   "source": []
  }
 ],
 "metadata": {
  "kernelspec": {
   "display_name": "Python 3 (ipykernel)",
   "language": "python",
   "name": "python3"
  },
  "language_info": {
   "codemirror_mode": {
    "name": "ipython",
    "version": 3
   },
   "file_extension": ".py",
   "mimetype": "text/x-python",
   "name": "python",
   "nbconvert_exporter": "python",
   "pygments_lexer": "ipython3",
   "version": "3.10.12"
  }
 },
 "nbformat": 4,
 "nbformat_minor": 5
}
